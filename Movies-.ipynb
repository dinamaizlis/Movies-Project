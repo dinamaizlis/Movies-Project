{
 "cells": [
  {
   "cell_type": "code",
   "execution_count": 1,
   "metadata": {},
   "outputs": [],
   "source": [
    "import pandas as pd\n",
    "import numpy as np\n",
    "import matplotlib.pyplot as plt\n",
    "import seaborn as sns \n",
    "import math\n",
    "import ast\n",
    "\n",
    "\n",
    "from sklearn.model_selection import train_test_split\n",
    "from sklearn.neighbors import KNeighborsClassifier\n",
    "from sklearn.tree import DecisionTreeClassifier\n",
    "from sklearn.linear_model import LogisticRegression\n",
    "from sklearn import metrics\n",
    "from sklearn.metrics import classification_report,confusion_matrix\n",
    "from sklearn.tree import DecisionTreeClassifier\n",
    "from sklearn.linear_model import LogisticRegression\n",
    "from sklearn import metrics\n",
    "from sklearn.naive_bayes import GaussianNB"
   ]
  },
  {
   "cell_type": "code",
   "execution_count": 2,
   "metadata": {},
   "outputs": [
    {
     "name": "stderr",
     "output_type": "stream",
     "text": [
      "/Users/dinamaizlis/opt/anaconda3/lib/python3.7/site-packages/IPython/core/interactiveshell.py:3058: DtypeWarning: Columns (10) have mixed types. Specify dtype option on import or set low_memory=False.\n",
      "  interactivity=interactivity, compiler=compiler, result=result)\n"
     ]
    }
   ],
   "source": [
    "#uploading movies datas\n",
    "df = pd.read_csv(\"movies_metadata.csv\")\n",
    "df1= pd.read_csv(\"ratings.csv\")\n",
    "df2= pd.read_csv(\"links.csv\")"
   ]
  },
  {
   "cell_type": "code",
   "execution_count": 3,
   "metadata": {
    "scrolled": true
   },
   "outputs": [
    {
     "name": "stdout",
     "output_type": "stream",
     "text": [
      "<class 'pandas.core.frame.DataFrame'>\n",
      "RangeIndex: 45466 entries, 0 to 45465\n",
      "Data columns (total 24 columns):\n",
      "adult                    45466 non-null object\n",
      "belongs_to_collection    4494 non-null object\n",
      "budget                   45466 non-null object\n",
      "genres                   45466 non-null object\n",
      "homepage                 7782 non-null object\n",
      "id                       45466 non-null object\n",
      "imdb_id                  45449 non-null object\n",
      "original_language        45455 non-null object\n",
      "original_title           45466 non-null object\n",
      "overview                 44512 non-null object\n",
      "popularity               45461 non-null object\n",
      "poster_path              45080 non-null object\n",
      "production_companies     45463 non-null object\n",
      "production_countries     45463 non-null object\n",
      "release_date             45379 non-null object\n",
      "revenue                  45460 non-null float64\n",
      "runtime                  45203 non-null float64\n",
      "spoken_languages         45460 non-null object\n",
      "status                   45379 non-null object\n",
      "tagline                  20412 non-null object\n",
      "title                    45460 non-null object\n",
      "video                    45460 non-null object\n",
      "vote_average             45460 non-null float64\n",
      "vote_count               45460 non-null float64\n",
      "dtypes: float64(4), object(20)\n",
      "memory usage: 8.3+ MB\n"
     ]
    }
   ],
   "source": [
    "df.info()"
   ]
  },
  {
   "cell_type": "markdown",
   "metadata": {},
   "source": [
    "# Explain the columns  \n",
    "\n",
    "Adult       - Is the movie suitable for adults                             \n",
    "Belongs_to_collection  - Is the movie from a series          \n",
    "budget      - How much money the movie can use                 \n",
    "genres      -The genre of the movie, Action, Comedy ,Thriller etc                \n",
    "homepage    -Movie website                             \n",
    "id          -Movie identification number                     \n",
    "imdb_id   -adrees in app               \n",
    "original_language -Original language of the movie            \n",
    "original_title    -The name of the movie                     \n",
    "overview          -Summary                                   \n",
    "popularity         -How much the movie sells                              \n",
    "poster_path        -The movie poster                          \n",
    "production_companies   -The companies that participated in making the movie   \n",
    "production_countries     -The countries where the movie was created  \n",
    "release_date        -Date of movie release                   \n",
    "revenue              -How much money was made from the movie        \n",
    "runtime              -How long the movie                      \n",
    "spoken_languages    -Movie languages                        \n",
    "status  -status\n",
    "tagline       -punch line   \n",
    "titel -The name of the film\n",
    "vido-if there is a vido\n",
    "vote average- Average votes total\n",
    "vote count - How many people voted"
   ]
  },
  {
   "cell_type": "code",
   "execution_count": 4,
   "metadata": {},
   "outputs": [
    {
     "data": {
      "text/html": [
       "<div>\n",
       "<style scoped>\n",
       "    .dataframe tbody tr th:only-of-type {\n",
       "        vertical-align: middle;\n",
       "    }\n",
       "\n",
       "    .dataframe tbody tr th {\n",
       "        vertical-align: top;\n",
       "    }\n",
       "\n",
       "    .dataframe thead th {\n",
       "        text-align: right;\n",
       "    }\n",
       "</style>\n",
       "<table border=\"1\" class=\"dataframe\">\n",
       "  <thead>\n",
       "    <tr style=\"text-align: right;\">\n",
       "      <th></th>\n",
       "      <th>adult</th>\n",
       "      <th>belongs_to_collection</th>\n",
       "      <th>budget</th>\n",
       "      <th>genres</th>\n",
       "      <th>homepage</th>\n",
       "      <th>id</th>\n",
       "      <th>imdb_id</th>\n",
       "      <th>original_language</th>\n",
       "      <th>original_title</th>\n",
       "      <th>overview</th>\n",
       "      <th>...</th>\n",
       "      <th>release_date</th>\n",
       "      <th>revenue</th>\n",
       "      <th>runtime</th>\n",
       "      <th>spoken_languages</th>\n",
       "      <th>status</th>\n",
       "      <th>tagline</th>\n",
       "      <th>title</th>\n",
       "      <th>video</th>\n",
       "      <th>vote_average</th>\n",
       "      <th>vote_count</th>\n",
       "    </tr>\n",
       "  </thead>\n",
       "  <tbody>\n",
       "    <tr>\n",
       "      <td>0</td>\n",
       "      <td>False</td>\n",
       "      <td>{'id': 10194, 'name': 'Toy Story Collection', ...</td>\n",
       "      <td>30000000</td>\n",
       "      <td>[{'id': 16, 'name': 'Animation'}, {'id': 35, '...</td>\n",
       "      <td>http://toystory.disney.com/toy-story</td>\n",
       "      <td>862</td>\n",
       "      <td>tt0114709</td>\n",
       "      <td>en</td>\n",
       "      <td>Toy Story</td>\n",
       "      <td>Led by Woody, Andy's toys live happily in his ...</td>\n",
       "      <td>...</td>\n",
       "      <td>1995-10-30</td>\n",
       "      <td>373554033.0</td>\n",
       "      <td>81.0</td>\n",
       "      <td>[{'iso_639_1': 'en', 'name': 'English'}]</td>\n",
       "      <td>Released</td>\n",
       "      <td>NaN</td>\n",
       "      <td>Toy Story</td>\n",
       "      <td>False</td>\n",
       "      <td>7.7</td>\n",
       "      <td>5415.0</td>\n",
       "    </tr>\n",
       "    <tr>\n",
       "      <td>1</td>\n",
       "      <td>False</td>\n",
       "      <td>NaN</td>\n",
       "      <td>65000000</td>\n",
       "      <td>[{'id': 12, 'name': 'Adventure'}, {'id': 14, '...</td>\n",
       "      <td>NaN</td>\n",
       "      <td>8844</td>\n",
       "      <td>tt0113497</td>\n",
       "      <td>en</td>\n",
       "      <td>Jumanji</td>\n",
       "      <td>When siblings Judy and Peter discover an encha...</td>\n",
       "      <td>...</td>\n",
       "      <td>1995-12-15</td>\n",
       "      <td>262797249.0</td>\n",
       "      <td>104.0</td>\n",
       "      <td>[{'iso_639_1': 'en', 'name': 'English'}, {'iso...</td>\n",
       "      <td>Released</td>\n",
       "      <td>Roll the dice and unleash the excitement!</td>\n",
       "      <td>Jumanji</td>\n",
       "      <td>False</td>\n",
       "      <td>6.9</td>\n",
       "      <td>2413.0</td>\n",
       "    </tr>\n",
       "    <tr>\n",
       "      <td>2</td>\n",
       "      <td>False</td>\n",
       "      <td>{'id': 119050, 'name': 'Grumpy Old Men Collect...</td>\n",
       "      <td>0</td>\n",
       "      <td>[{'id': 10749, 'name': 'Romance'}, {'id': 35, ...</td>\n",
       "      <td>NaN</td>\n",
       "      <td>15602</td>\n",
       "      <td>tt0113228</td>\n",
       "      <td>en</td>\n",
       "      <td>Grumpier Old Men</td>\n",
       "      <td>A family wedding reignites the ancient feud be...</td>\n",
       "      <td>...</td>\n",
       "      <td>1995-12-22</td>\n",
       "      <td>0.0</td>\n",
       "      <td>101.0</td>\n",
       "      <td>[{'iso_639_1': 'en', 'name': 'English'}]</td>\n",
       "      <td>Released</td>\n",
       "      <td>Still Yelling. Still Fighting. Still Ready for...</td>\n",
       "      <td>Grumpier Old Men</td>\n",
       "      <td>False</td>\n",
       "      <td>6.5</td>\n",
       "      <td>92.0</td>\n",
       "    </tr>\n",
       "    <tr>\n",
       "      <td>3</td>\n",
       "      <td>False</td>\n",
       "      <td>NaN</td>\n",
       "      <td>16000000</td>\n",
       "      <td>[{'id': 35, 'name': 'Comedy'}, {'id': 18, 'nam...</td>\n",
       "      <td>NaN</td>\n",
       "      <td>31357</td>\n",
       "      <td>tt0114885</td>\n",
       "      <td>en</td>\n",
       "      <td>Waiting to Exhale</td>\n",
       "      <td>Cheated on, mistreated and stepped on, the wom...</td>\n",
       "      <td>...</td>\n",
       "      <td>1995-12-22</td>\n",
       "      <td>81452156.0</td>\n",
       "      <td>127.0</td>\n",
       "      <td>[{'iso_639_1': 'en', 'name': 'English'}]</td>\n",
       "      <td>Released</td>\n",
       "      <td>Friends are the people who let you be yourself...</td>\n",
       "      <td>Waiting to Exhale</td>\n",
       "      <td>False</td>\n",
       "      <td>6.1</td>\n",
       "      <td>34.0</td>\n",
       "    </tr>\n",
       "    <tr>\n",
       "      <td>4</td>\n",
       "      <td>False</td>\n",
       "      <td>{'id': 96871, 'name': 'Father of the Bride Col...</td>\n",
       "      <td>0</td>\n",
       "      <td>[{'id': 35, 'name': 'Comedy'}]</td>\n",
       "      <td>NaN</td>\n",
       "      <td>11862</td>\n",
       "      <td>tt0113041</td>\n",
       "      <td>en</td>\n",
       "      <td>Father of the Bride Part II</td>\n",
       "      <td>Just when George Banks has recovered from his ...</td>\n",
       "      <td>...</td>\n",
       "      <td>1995-02-10</td>\n",
       "      <td>76578911.0</td>\n",
       "      <td>106.0</td>\n",
       "      <td>[{'iso_639_1': 'en', 'name': 'English'}]</td>\n",
       "      <td>Released</td>\n",
       "      <td>Just When His World Is Back To Normal... He's ...</td>\n",
       "      <td>Father of the Bride Part II</td>\n",
       "      <td>False</td>\n",
       "      <td>5.7</td>\n",
       "      <td>173.0</td>\n",
       "    </tr>\n",
       "  </tbody>\n",
       "</table>\n",
       "<p>5 rows × 24 columns</p>\n",
       "</div>"
      ],
      "text/plain": [
       "   adult                              belongs_to_collection    budget  \\\n",
       "0  False  {'id': 10194, 'name': 'Toy Story Collection', ...  30000000   \n",
       "1  False                                                NaN  65000000   \n",
       "2  False  {'id': 119050, 'name': 'Grumpy Old Men Collect...         0   \n",
       "3  False                                                NaN  16000000   \n",
       "4  False  {'id': 96871, 'name': 'Father of the Bride Col...         0   \n",
       "\n",
       "                                              genres  \\\n",
       "0  [{'id': 16, 'name': 'Animation'}, {'id': 35, '...   \n",
       "1  [{'id': 12, 'name': 'Adventure'}, {'id': 14, '...   \n",
       "2  [{'id': 10749, 'name': 'Romance'}, {'id': 35, ...   \n",
       "3  [{'id': 35, 'name': 'Comedy'}, {'id': 18, 'nam...   \n",
       "4                     [{'id': 35, 'name': 'Comedy'}]   \n",
       "\n",
       "                               homepage     id    imdb_id original_language  \\\n",
       "0  http://toystory.disney.com/toy-story    862  tt0114709                en   \n",
       "1                                   NaN   8844  tt0113497                en   \n",
       "2                                   NaN  15602  tt0113228                en   \n",
       "3                                   NaN  31357  tt0114885                en   \n",
       "4                                   NaN  11862  tt0113041                en   \n",
       "\n",
       "                original_title  \\\n",
       "0                    Toy Story   \n",
       "1                      Jumanji   \n",
       "2             Grumpier Old Men   \n",
       "3            Waiting to Exhale   \n",
       "4  Father of the Bride Part II   \n",
       "\n",
       "                                            overview  ... release_date  \\\n",
       "0  Led by Woody, Andy's toys live happily in his ...  ...   1995-10-30   \n",
       "1  When siblings Judy and Peter discover an encha...  ...   1995-12-15   \n",
       "2  A family wedding reignites the ancient feud be...  ...   1995-12-22   \n",
       "3  Cheated on, mistreated and stepped on, the wom...  ...   1995-12-22   \n",
       "4  Just when George Banks has recovered from his ...  ...   1995-02-10   \n",
       "\n",
       "       revenue runtime                                   spoken_languages  \\\n",
       "0  373554033.0    81.0           [{'iso_639_1': 'en', 'name': 'English'}]   \n",
       "1  262797249.0   104.0  [{'iso_639_1': 'en', 'name': 'English'}, {'iso...   \n",
       "2          0.0   101.0           [{'iso_639_1': 'en', 'name': 'English'}]   \n",
       "3   81452156.0   127.0           [{'iso_639_1': 'en', 'name': 'English'}]   \n",
       "4   76578911.0   106.0           [{'iso_639_1': 'en', 'name': 'English'}]   \n",
       "\n",
       "     status                                            tagline  \\\n",
       "0  Released                                                NaN   \n",
       "1  Released          Roll the dice and unleash the excitement!   \n",
       "2  Released  Still Yelling. Still Fighting. Still Ready for...   \n",
       "3  Released  Friends are the people who let you be yourself...   \n",
       "4  Released  Just When His World Is Back To Normal... He's ...   \n",
       "\n",
       "                         title  video vote_average vote_count  \n",
       "0                    Toy Story  False          7.7     5415.0  \n",
       "1                      Jumanji  False          6.9     2413.0  \n",
       "2             Grumpier Old Men  False          6.5       92.0  \n",
       "3            Waiting to Exhale  False          6.1       34.0  \n",
       "4  Father of the Bride Part II  False          5.7      173.0  \n",
       "\n",
       "[5 rows x 24 columns]"
      ]
     },
     "execution_count": 4,
     "metadata": {},
     "output_type": "execute_result"
    }
   ],
   "source": [
    "#for me to know the data better\n",
    "df.head()"
   ]
  },
  {
   "cell_type": "code",
   "execution_count": 5,
   "metadata": {},
   "outputs": [
    {
     "data": {
      "text/plain": [
       "(45466, 24)"
      ]
     },
     "execution_count": 5,
     "metadata": {},
     "output_type": "execute_result"
    }
   ],
   "source": [
    "# size fo the df\n",
    "df.shape"
   ]
  },
  {
   "cell_type": "code",
   "execution_count": 6,
   "metadata": {},
   "outputs": [
    {
     "data": {
      "text/plain": [
       "adult                        0\n",
       "belongs_to_collection    40972\n",
       "budget                       0\n",
       "genres                       0\n",
       "homepage                 37684\n",
       "id                           0\n",
       "imdb_id                     17\n",
       "original_language           11\n",
       "original_title               0\n",
       "overview                   954\n",
       "popularity                   5\n",
       "poster_path                386\n",
       "production_companies         3\n",
       "production_countries         3\n",
       "release_date                87\n",
       "revenue                      6\n",
       "runtime                    263\n",
       "spoken_languages             6\n",
       "status                      87\n",
       "tagline                  25054\n",
       "title                        6\n",
       "video                        6\n",
       "vote_average                 6\n",
       "vote_count                   6\n",
       "dtype: int64"
      ]
     },
     "execution_count": 6,
     "metadata": {},
     "output_type": "execute_result"
    }
   ],
   "source": [
    "df.isnull().sum()"
   ]
  },
  {
   "cell_type": "code",
   "execution_count": 7,
   "metadata": {},
   "outputs": [
    {
     "data": {
      "text/plain": [
       "<matplotlib.axes._subplots.AxesSubplot at 0x10d5f78d0>"
      ]
     },
     "execution_count": 7,
     "metadata": {},
     "output_type": "execute_result"
    },
    {
     "data": {
      "image/png": "[encoded data removed]",
      "text/plain": [
       "<Figure size 432x288 with 2 Axes>"
      ]
     },
     "metadata": {
      "needs_background": "light"
     },
     "output_type": "display_data"
    }
   ],
   "source": [
    "# A graph that describes the values\n",
    "sns.heatmap(df.isnull(), yticklabels = False, cmap = 'viridis')"
   ]
  },
  {
   "cell_type": "code",
   "execution_count": 8,
   "metadata": {},
   "outputs": [],
   "source": [
    "#I decided to drop the following columns because I saw that the missing values in the columns are high.\n",
    "df.drop(columns = ['tagline','homepage','belongs_to_collection'], inplace =True)"
   ]
  },
  {
   "cell_type": "code",
   "execution_count": 9,
   "metadata": {},
   "outputs": [
    {
     "name": "stdout",
     "output_type": "stream",
     "text": [
      "<class 'pandas.core.frame.DataFrame'>\n",
      "RangeIndex: 45466 entries, 0 to 45465\n",
      "Data columns (total 21 columns):\n",
      "adult                   45466 non-null object\n",
      "budget                  45466 non-null object\n",
      "genres                  45466 non-null object\n",
      "id                      45466 non-null object\n",
      "imdb_id                 45449 non-null object\n",
      "original_language       45455 non-null object\n",
      "original_title          45466 non-null object\n",
      "overview                44512 non-null object\n",
      "popularity              45461 non-null object\n",
      "poster_path             45080 non-null object\n",
      "production_companies    45463 non-null object\n",
      "production_countries    45463 non-null object\n",
      "release_date            45379 non-null object\n",
      "revenue                 45460 non-null float64\n",
      "runtime                 45203 non-null float64\n",
      "spoken_languages        45460 non-null object\n",
      "status                  45379 non-null object\n",
      "title                   45460 non-null object\n",
      "video                   45460 non-null object\n",
      "vote_average            45460 non-null float64\n",
      "vote_count              45460 non-null float64\n",
      "dtypes: float64(4), object(17)\n",
      "memory usage: 7.3+ MB\n"
     ]
    }
   ],
   "source": [
    "df.info()"
   ]
  },
  {
   "cell_type": "markdown",
   "metadata": {},
   "source": [
    "#####  fill missing values "
   ]
  },
  {
   "cell_type": "code",
   "execution_count": 10,
   "metadata": {},
   "outputs": [],
   "source": [
    "#fill the nan values with 'not information'\n",
    "df[\"overview\"].fillna(\"Not overview\", inplace = True)\n",
    "df[\"poster_path\"].fillna(\"Not poster path\", inplace = True)"
   ]
  },
  {
   "cell_type": "code",
   "execution_count": 11,
   "metadata": {},
   "outputs": [],
   "source": [
    "#I decided to delet the row with the nall value in this coulmn\n",
    "#becouse The ratio of missing values to the number of columns is minimal\n",
    "df=df.dropna(axis=0, subset=[\"imdb_id\"])"
   ]
  },
  {
   "cell_type": "markdown",
   "metadata": {},
   "source": [
    "##### I decided to put in original_language׳s nan  the maximum value that gives the most popular source language.\n",
    "First of all I checked out what is the most popular value among the original languages, I noticed that English is the original language in the gap on the other languages.\n",
    "So I decided to take the English language and replace it with the other languages that are missing because of the miniscule attitude the change will not be noticeable."
   ]
  },
  {
   "cell_type": "code",
   "execution_count": 12,
   "metadata": {},
   "outputs": [
    {
     "data": {
      "text/plain": [
       "Released           44999\n",
       "Rumored              228\n",
       "Post Production       98\n",
       "In Production         20\n",
       "Planned               15\n",
       "Canceled               2\n",
       "Name: status, dtype: int64"
      ]
     },
     "execution_count": 12,
     "metadata": {},
     "output_type": "execute_result"
    }
   ],
   "source": [
    "#I decided to put in 'original_language׳s' nan the maximum value that gives the most popular source language.\n",
    "df[\"status\"].value_counts()"
   ]
  },
  {
   "cell_type": "code",
   "execution_count": 13,
   "metadata": {},
   "outputs": [],
   "source": [
    "df[\"status\"].fillna(\"Released\", inplace = True)"
   ]
  },
  {
   "cell_type": "code",
   "execution_count": 14,
   "metadata": {},
   "outputs": [
    {
     "data": {
      "text/plain": [
       "en      32256\n",
       "fr       2437\n",
       "it       1529\n",
       "ja       1349\n",
       "de       1080\n",
       "        ...  \n",
       "82.0        1\n",
       "uz          1\n",
       "68.0        1\n",
       "fy          1\n",
       "eo          1\n",
       "Name: original_language, Length: 92, dtype: int64"
      ]
     },
     "execution_count": 14,
     "metadata": {},
     "output_type": "execute_result"
    }
   ],
   "source": [
    "#I decided to put in 'original_language׳s' nan the maximum value that gives the most popular source language.\n",
    "df['original_language'].value_counts()"
   ]
  },
  {
   "cell_type": "code",
   "execution_count": 15,
   "metadata": {},
   "outputs": [],
   "source": [
    "df[\"original_language\"].fillna(\"en\", inplace = True)"
   ]
  },
  {
   "cell_type": "code",
   "execution_count": 16,
   "metadata": {},
   "outputs": [
    {
     "data": {
      "text/plain": [
       "[{'iso_3166_1': 'US', 'name': 'United States of America'}]                                                                                                                                                                        17848\n",
       "[]                                                                                                                                                                                                                                 6274\n",
       "[{'iso_3166_1': 'GB', 'name': 'United Kingdom'}]                                                                                                                                                                                   2237\n",
       "[{'iso_3166_1': 'FR', 'name': 'France'}]                                                                                                                                                                                           1652\n",
       "[{'iso_3166_1': 'JP', 'name': 'Japan'}]                                                                                                                                                                                            1355\n",
       "                                                                                                                                                                                                                                  ...  \n",
       "[{'iso_3166_1': 'FR', 'name': 'France'}, {'iso_3166_1': 'MC', 'name': 'Monaco'}]                                                                                                                                                      1\n",
       "[{'iso_3166_1': 'DE', 'name': 'Germany'}, {'iso_3166_1': 'JP', 'name': 'Japan'}, {'iso_3166_1': 'GB', 'name': 'United Kingdom'}]                                                                                                      1\n",
       "[{'iso_3166_1': 'GB', 'name': 'United Kingdom'}, {'iso_3166_1': 'CZ', 'name': 'Czech Republic'}, {'iso_3166_1': 'FR', 'name': 'France'}, {'iso_3166_1': 'IT', 'name': 'Italy'}]                                                       1\n",
       "[{'iso_3166_1': 'US', 'name': 'United States of America'}, {'iso_3166_1': 'NZ', 'name': 'New Zealand'}, {'iso_3166_1': 'CA', 'name': 'Canada'}, {'iso_3166_1': 'IL', 'name': 'Israel'}, {'iso_3166_1': 'JP', 'name': 'Japan'}]        1\n",
       "[{'iso_3166_1': 'CN', 'name': 'China'}, {'iso_3166_1': 'SG', 'name': 'Singapore'}, {'iso_3166_1': 'KR', 'name': 'South Korea'}]                                                                                                       1\n",
       "Name: production_countries, Length: 2393, dtype: int64"
      ]
     },
     "execution_count": 16,
     "metadata": {},
     "output_type": "execute_result"
    }
   ],
   "source": [
    "#I decided to put in 'production_countries' nan the maximum value that gives the most popular source language.\n",
    "df['production_countries'].value_counts()"
   ]
  },
  {
   "cell_type": "code",
   "execution_count": 17,
   "metadata": {},
   "outputs": [],
   "source": [
    "df[\"production_countries\"].fillna(\"[{'iso_3166_1': 'US', 'name': 'United States of America'}]\", inplace = True)"
   ]
  },
  {
   "cell_type": "code",
   "execution_count": 18,
   "metadata": {},
   "outputs": [
    {
     "data": {
      "text/plain": [
       "[{'iso_639_1': 'en', 'name': 'English'}]                                                                                                                                                                   22392\n",
       "[]                                                                                                                                                                                                          3822\n",
       "[{'iso_639_1': 'fr', 'name': 'Français'}]                                                                                                                                                                   1852\n",
       "[{'iso_639_1': 'ja', 'name': '日本語'}]                                                                                                                                                                        1288\n",
       "[{'iso_639_1': 'it', 'name': 'Italiano'}]                                                                                                                                                                   1218\n",
       "                                                                                                                                                                                                           ...  \n",
       "[{'iso_639_1': 'en', 'name': 'English'}, {'iso_639_1': 'yi', 'name': ''}, {'iso_639_1': 'de', 'name': 'Deutsch'}]                                                                                              1\n",
       "[{'iso_639_1': 'ca', 'name': 'Català'}, {'iso_639_1': 'en', 'name': 'English'}, {'iso_639_1': 'fr', 'name': 'Français'}, {'iso_639_1': 'gl', 'name': 'Galego'}, {'iso_639_1': 'es', 'name': 'Español'}]        1\n",
       "[{'iso_639_1': 'hi', 'name': 'हिन्दी'}, {'iso_639_1': 'en', 'name': 'English'}, {'iso_639_1': 'fr', 'name': 'Français'}, {'iso_639_1': 'es', 'name': 'Español'}]                                               1\n",
       "[{'iso_639_1': 'cs', 'name': 'Český'}, {'iso_639_1': 'zh', 'name': '普通话'}, {'iso_639_1': 'ru', 'name': 'Pусский'}, {'iso_639_1': 'th', 'name': 'ภาษาไทย'}]                                                     1\n",
       "[{'iso_639_1': 'fr', 'name': 'Français'}, {'iso_639_1': 'ln', 'name': ''}, {'iso_639_1': 'en', 'name': 'English'}, {'iso_639_1': 'nl', 'name': 'Nederlands'}]                                                  1\n",
       "Name: spoken_languages, Length: 1931, dtype: int64"
      ]
     },
     "execution_count": 18,
     "metadata": {},
     "output_type": "execute_result"
    }
   ],
   "source": [
    "#I decided to put in 'spoken_languages' nan the maximum value that gives the most popular source language.\n",
    "df['spoken_languages'].value_counts()"
   ]
  },
  {
   "cell_type": "code",
   "execution_count": 19,
   "metadata": {},
   "outputs": [],
   "source": [
    "df[\"spoken_languages\"].fillna(\"en\", inplace = True)"
   ]
  },
  {
   "cell_type": "code",
   "execution_count": 20,
   "metadata": {},
   "outputs": [
    {
     "data": {
      "text/plain": [
       "[]                                                                                                                                11865\n",
       "[{'name': 'Metro-Goldwyn-Mayer (MGM)', 'id': 8411}]                                                                                 742\n",
       "[{'name': 'Warner Bros.', 'id': 6194}]                                                                                              540\n",
       "[{'name': 'Paramount Pictures', 'id': 4}]                                                                                           505\n",
       "[{'name': 'Twentieth Century Fox Film Corporation', 'id': 306}]                                                                     439\n",
       "                                                                                                                                  ...  \n",
       "[{'name': 'Lea Film', 'id': 4915}]                                                                                                    1\n",
       "[{'name': 'Jet Tone Production', 'id': 540}, {'name': 'The Criterion Collection', 'id': 10932}]                                       1\n",
       "[{'name': 'United Artists', 'id': 60}, {'name': 'Apple Corps', 'id': 3797}, {'name': 'King Features Production', 'id': 16915}]        1\n",
       "[{'name': 'Lions Gate Films', 'id': 35}, {'name': 'Rampage Entertainment', 'id': 26144}]                                              1\n",
       "[{'name': 'KMBO', 'id': 6841}]                                                                                                        1\n",
       "Name: production_companies, Length: 22704, dtype: int64"
      ]
     },
     "execution_count": 20,
     "metadata": {},
     "output_type": "execute_result"
    }
   ],
   "source": [
    "#I decided to put in 'production_companies' nan the maximum value that gives the most popular source language.\n",
    "df['production_companies'].value_counts()"
   ]
  },
  {
   "cell_type": "code",
   "execution_count": 21,
   "metadata": {},
   "outputs": [],
   "source": [
    "# I decided to delete the column because I noticed that a quarter of the values are empty\n",
    "df.drop(columns = ['production_companies'], inplace =True)"
   ]
  },
  {
   "cell_type": "code",
   "execution_count": 22,
   "metadata": {},
   "outputs": [],
   "source": [
    "#Convert popularity type object to float\n",
    "df['popularity'] = df['popularity'].str.isnumeric().astype(float)"
   ]
  },
  {
   "cell_type": "code",
   "execution_count": 23,
   "metadata": {},
   "outputs": [],
   "source": [
    "#df.info()"
   ]
  },
  {
   "cell_type": "code",
   "execution_count": 24,
   "metadata": {},
   "outputs": [],
   "source": [
    "# I decided to fill the nan values with the mean of the coulmn\n",
    "meanP= df[\"popularity\"].mean()\n",
    "meanR= df[\"runtime\"].mean()\n",
    "meanVA= df['vote_average'].mean()\n",
    "meanVC= df['vote_count'].mean()"
   ]
  },
  {
   "cell_type": "code",
   "execution_count": 25,
   "metadata": {},
   "outputs": [
    {
     "data": {
      "text/plain": [
       "94.13589891121536"
      ]
     },
     "execution_count": 25,
     "metadata": {},
     "output_type": "execute_result"
    }
   ],
   "source": [
    "meanR"
   ]
  },
  {
   "cell_type": "code",
   "execution_count": 26,
   "metadata": {},
   "outputs": [],
   "source": [
    "df[\"runtime\"].fillna(meanR, inplace = True)\n",
    "df[\"popularity\"].fillna(meanP, inplace = True)\n",
    "df[\"vote_average\"].fillna(meanVA, inplace = True)\n",
    "df[\"vote_count\"].fillna(meanVC, inplace = True)"
   ]
  },
  {
   "cell_type": "code",
   "execution_count": 27,
   "metadata": {},
   "outputs": [
    {
     "name": "stdout",
     "output_type": "stream",
     "text": [
      "<class 'pandas.core.frame.DataFrame'>\n",
      "Int64Index: 45449 entries, 0 to 45465\n",
      "Data columns (total 20 columns):\n",
      "adult                   45449 non-null object\n",
      "budget                  45449 non-null object\n",
      "genres                  45449 non-null object\n",
      "id                      45449 non-null object\n",
      "imdb_id                 45449 non-null object\n",
      "original_language       45449 non-null object\n",
      "original_title          45449 non-null object\n",
      "overview                45449 non-null object\n",
      "popularity              45449 non-null float64\n",
      "poster_path             45449 non-null object\n",
      "production_countries    45449 non-null object\n",
      "release_date            45365 non-null object\n",
      "revenue                 45443 non-null float64\n",
      "runtime                 45449 non-null float64\n",
      "spoken_languages        45449 non-null object\n",
      "status                  45449 non-null object\n",
      "title                   45443 non-null object\n",
      "video                   45443 non-null object\n",
      "vote_average            45449 non-null float64\n",
      "vote_count              45449 non-null float64\n",
      "dtypes: float64(5), object(15)\n",
      "memory usage: 7.3+ MB\n"
     ]
    }
   ],
   "source": [
    "df.info()"
   ]
  },
  {
   "cell_type": "code",
   "execution_count": 28,
   "metadata": {},
   "outputs": [
    {
     "data": {
      "text/plain": [
       "False    45350\n",
       "True        93\n",
       "Name: video, dtype: int64"
      ]
     },
     "execution_count": 28,
     "metadata": {},
     "output_type": "execute_result"
    }
   ],
   "source": [
    "#I decided to fill the nan values with the max values\n",
    "df['video'].value_counts()"
   ]
  },
  {
   "cell_type": "code",
   "execution_count": 29,
   "metadata": {},
   "outputs": [],
   "source": [
    "df[\"video\"].fillna(\"False\", inplace = True)"
   ]
  },
  {
   "cell_type": "code",
   "execution_count": 30,
   "metadata": {},
   "outputs": [],
   "source": [
    "#if we look closer at the DF we can see that those 2 values look quite the same\n",
    "df['title'].fillna(df['original_title'], inplace=True)"
   ]
  },
  {
   "cell_type": "code",
   "execution_count": 31,
   "metadata": {},
   "outputs": [],
   "source": [
    "#I decided to dalet the row with nan values becouse -\n",
    "#this  it is significant to the model and the number of missing values is minimal\n",
    "df = df.dropna(axis=0, subset=['revenue'])"
   ]
  },
  {
   "cell_type": "code",
   "execution_count": 32,
   "metadata": {},
   "outputs": [],
   "source": [
    "#The date is affects the classification so I need everyone to be classified into the date,\n",
    "# I noticed that these are 81 missing values so I decided to delete them from the data\n",
    "df = df.dropna(axis=0, subset=['release_date'])"
   ]
  },
  {
   "cell_type": "code",
   "execution_count": 33,
   "metadata": {},
   "outputs": [
    {
     "data": {
      "text/plain": [
       "adult                   0\n",
       "budget                  0\n",
       "genres                  0\n",
       "id                      0\n",
       "imdb_id                 0\n",
       "original_language       0\n",
       "original_title          0\n",
       "overview                0\n",
       "popularity              0\n",
       "poster_path             0\n",
       "production_countries    0\n",
       "release_date            0\n",
       "revenue                 0\n",
       "runtime                 0\n",
       "spoken_languages        0\n",
       "status                  0\n",
       "title                   0\n",
       "video                   0\n",
       "vote_average            0\n",
       "vote_count              0\n",
       "dtype: int64"
      ]
     },
     "execution_count": 33,
     "metadata": {},
     "output_type": "execute_result"
    }
   ],
   "source": [
    "df.isnull().sum()"
   ]
  },
  {
   "cell_type": "code",
   "execution_count": 34,
   "metadata": {},
   "outputs": [
    {
     "data": {
      "text/plain": [
       "(45362, 20)"
      ]
     },
     "execution_count": 34,
     "metadata": {},
     "output_type": "execute_result"
    }
   ],
   "source": [
    "df.shape"
   ]
  },
  {
   "cell_type": "markdown",
   "metadata": {},
   "source": [
    "# work to merge the 3 data togeter"
   ]
  },
  {
   "cell_type": "code",
   "execution_count": 35,
   "metadata": {},
   "outputs": [
    {
     "name": "stdout",
     "output_type": "stream",
     "text": [
      "<class 'pandas.core.frame.DataFrame'>\n",
      "RangeIndex: 26024289 entries, 0 to 26024288\n",
      "Data columns (total 4 columns):\n",
      "userId       int64\n",
      "movieId      int64\n",
      "rating       float64\n",
      "timestamp    int64\n",
      "dtypes: float64(1), int64(3)\n",
      "memory usage: 794.2 MB\n"
     ]
    }
   ],
   "source": [
    "# work on the df1 data\n",
    "df1.info()"
   ]
  },
  {
   "cell_type": "code",
   "execution_count": 36,
   "metadata": {},
   "outputs": [
    {
     "data": {
      "text/plain": [
       "(26024289, 4)"
      ]
     },
     "execution_count": 36,
     "metadata": {},
     "output_type": "execute_result"
    }
   ],
   "source": [
    "df1.shape"
   ]
  },
  {
   "cell_type": "code",
   "execution_count": 37,
   "metadata": {},
   "outputs": [
    {
     "data": {
      "text/plain": [
       "userId       0\n",
       "movieId      0\n",
       "rating       0\n",
       "timestamp    0\n",
       "dtype: int64"
      ]
     },
     "execution_count": 37,
     "metadata": {},
     "output_type": "execute_result"
    }
   ],
   "source": [
    "df1.isnull().sum()"
   ]
  },
  {
   "cell_type": "code",
   "execution_count": 38,
   "metadata": {},
   "outputs": [],
   "source": [
    "#groupby all the row that have the same movieId and get the mean fo them\n",
    "df1=df1.groupby([\"movieId\"]).mean()"
   ]
  },
  {
   "cell_type": "code",
   "execution_count": 39,
   "metadata": {},
   "outputs": [],
   "source": [
    "#Creating an index column\n",
    "df1=df1.reset_index()"
   ]
  },
  {
   "cell_type": "code",
   "execution_count": 40,
   "metadata": {},
   "outputs": [
    {
     "data": {
      "text/html": [
       "<div>\n",
       "<style scoped>\n",
       "    .dataframe tbody tr th:only-of-type {\n",
       "        vertical-align: middle;\n",
       "    }\n",
       "\n",
       "    .dataframe tbody tr th {\n",
       "        vertical-align: top;\n",
       "    }\n",
       "\n",
       "    .dataframe thead th {\n",
       "        text-align: right;\n",
       "    }\n",
       "</style>\n",
       "<table border=\"1\" class=\"dataframe\">\n",
       "  <thead>\n",
       "    <tr style=\"text-align: right;\">\n",
       "      <th></th>\n",
       "      <th>movieId</th>\n",
       "      <th>userId</th>\n",
       "      <th>rating</th>\n",
       "      <th>timestamp</th>\n",
       "    </tr>\n",
       "  </thead>\n",
       "  <tbody>\n",
       "    <tr>\n",
       "      <td>0</td>\n",
       "      <td>1</td>\n",
       "      <td>135121.043616</td>\n",
       "      <td>3.888157</td>\n",
       "      <td>1.113440e+09</td>\n",
       "    </tr>\n",
       "    <tr>\n",
       "      <td>1</td>\n",
       "      <td>2</td>\n",
       "      <td>134877.953761</td>\n",
       "      <td>3.236953</td>\n",
       "      <td>1.088621e+09</td>\n",
       "    </tr>\n",
       "    <tr>\n",
       "      <td>2</td>\n",
       "      <td>3</td>\n",
       "      <td>136520.452733</td>\n",
       "      <td>3.175550</td>\n",
       "      <td>9.661124e+08</td>\n",
       "    </tr>\n",
       "    <tr>\n",
       "      <td>3</td>\n",
       "      <td>4</td>\n",
       "      <td>136249.536062</td>\n",
       "      <td>2.875713</td>\n",
       "      <td>9.390243e+08</td>\n",
       "    </tr>\n",
       "    <tr>\n",
       "      <td>4</td>\n",
       "      <td>5</td>\n",
       "      <td>135293.275855</td>\n",
       "      <td>3.079565</td>\n",
       "      <td>9.896788e+08</td>\n",
       "    </tr>\n",
       "  </tbody>\n",
       "</table>\n",
       "</div>"
      ],
      "text/plain": [
       "   movieId         userId    rating     timestamp\n",
       "0        1  135121.043616  3.888157  1.113440e+09\n",
       "1        2  134877.953761  3.236953  1.088621e+09\n",
       "2        3  136520.452733  3.175550  9.661124e+08\n",
       "3        4  136249.536062  2.875713  9.390243e+08\n",
       "4        5  135293.275855  3.079565  9.896788e+08"
      ]
     },
     "execution_count": 40,
     "metadata": {},
     "output_type": "execute_result"
    }
   ],
   "source": [
    "df1.head()"
   ]
  },
  {
   "cell_type": "code",
   "execution_count": 41,
   "metadata": {},
   "outputs": [
    {
     "name": "stdout",
     "output_type": "stream",
     "text": [
      "<class 'pandas.core.frame.DataFrame'>\n",
      "RangeIndex: 45843 entries, 0 to 45842\n",
      "Data columns (total 3 columns):\n",
      "movieId    45843 non-null int64\n",
      "imdbId     45843 non-null int64\n",
      "tmdbId     45624 non-null float64\n",
      "dtypes: float64(1), int64(2)\n",
      "memory usage: 1.0 MB\n"
     ]
    }
   ],
   "source": [
    "# work on the df2 data\n",
    "df2.info()"
   ]
  },
  {
   "cell_type": "code",
   "execution_count": 42,
   "metadata": {},
   "outputs": [],
   "source": [
    "# Create new date by merge two date together \n",
    "df5=pd.merge(df1, df2, on='movieId', how='inner')"
   ]
  },
  {
   "cell_type": "code",
   "execution_count": 43,
   "metadata": {},
   "outputs": [
    {
     "data": {
      "text/html": [
       "<div>\n",
       "<style scoped>\n",
       "    .dataframe tbody tr th:only-of-type {\n",
       "        vertical-align: middle;\n",
       "    }\n",
       "\n",
       "    .dataframe tbody tr th {\n",
       "        vertical-align: top;\n",
       "    }\n",
       "\n",
       "    .dataframe thead th {\n",
       "        text-align: right;\n",
       "    }\n",
       "</style>\n",
       "<table border=\"1\" class=\"dataframe\">\n",
       "  <thead>\n",
       "    <tr style=\"text-align: right;\">\n",
       "      <th></th>\n",
       "      <th>movieId</th>\n",
       "      <th>userId</th>\n",
       "      <th>rating</th>\n",
       "      <th>timestamp</th>\n",
       "      <th>imdbId</th>\n",
       "      <th>tmdbId</th>\n",
       "    </tr>\n",
       "  </thead>\n",
       "  <tbody>\n",
       "    <tr>\n",
       "      <td>0</td>\n",
       "      <td>1</td>\n",
       "      <td>135121.043616</td>\n",
       "      <td>3.888157</td>\n",
       "      <td>1.113440e+09</td>\n",
       "      <td>114709</td>\n",
       "      <td>862.0</td>\n",
       "    </tr>\n",
       "    <tr>\n",
       "      <td>1</td>\n",
       "      <td>2</td>\n",
       "      <td>134877.953761</td>\n",
       "      <td>3.236953</td>\n",
       "      <td>1.088621e+09</td>\n",
       "      <td>113497</td>\n",
       "      <td>8844.0</td>\n",
       "    </tr>\n",
       "    <tr>\n",
       "      <td>2</td>\n",
       "      <td>3</td>\n",
       "      <td>136520.452733</td>\n",
       "      <td>3.175550</td>\n",
       "      <td>9.661124e+08</td>\n",
       "      <td>113228</td>\n",
       "      <td>15602.0</td>\n",
       "    </tr>\n",
       "    <tr>\n",
       "      <td>3</td>\n",
       "      <td>4</td>\n",
       "      <td>136249.536062</td>\n",
       "      <td>2.875713</td>\n",
       "      <td>9.390243e+08</td>\n",
       "      <td>114885</td>\n",
       "      <td>31357.0</td>\n",
       "    </tr>\n",
       "    <tr>\n",
       "      <td>4</td>\n",
       "      <td>5</td>\n",
       "      <td>135293.275855</td>\n",
       "      <td>3.079565</td>\n",
       "      <td>9.896788e+08</td>\n",
       "      <td>113041</td>\n",
       "      <td>11862.0</td>\n",
       "    </tr>\n",
       "  </tbody>\n",
       "</table>\n",
       "</div>"
      ],
      "text/plain": [
       "   movieId         userId    rating     timestamp  imdbId   tmdbId\n",
       "0        1  135121.043616  3.888157  1.113440e+09  114709    862.0\n",
       "1        2  134877.953761  3.236953  1.088621e+09  113497   8844.0\n",
       "2        3  136520.452733  3.175550  9.661124e+08  113228  15602.0\n",
       "3        4  136249.536062  2.875713  9.390243e+08  114885  31357.0\n",
       "4        5  135293.275855  3.079565  9.896788e+08  113041  11862.0"
      ]
     },
     "execution_count": 43,
     "metadata": {},
     "output_type": "execute_result"
    }
   ],
   "source": [
    "df5.head()"
   ]
  },
  {
   "cell_type": "code",
   "execution_count": 44,
   "metadata": {},
   "outputs": [
    {
     "data": {
      "text/plain": [
       "movieId        0\n",
       "userId         0\n",
       "rating         0\n",
       "timestamp      0\n",
       "imdbId         0\n",
       "tmdbId       213\n",
       "dtype: int64"
      ]
     },
     "execution_count": 44,
     "metadata": {},
     "output_type": "execute_result"
    }
   ],
   "source": [
    "df5.isnull().sum()"
   ]
  },
  {
   "cell_type": "code",
   "execution_count": 45,
   "metadata": {},
   "outputs": [],
   "source": [
    "#dropthe row with nan\n",
    "df5 = df5.dropna(axis=0, subset=['tmdbId'])"
   ]
  },
  {
   "cell_type": "code",
   "execution_count": 46,
   "metadata": {},
   "outputs": [
    {
     "name": "stdout",
     "output_type": "stream",
     "text": [
      "<class 'pandas.core.frame.DataFrame'>\n",
      "Int64Index: 44902 entries, 0 to 45114\n",
      "Data columns (total 6 columns):\n",
      "movieId      44902 non-null int64\n",
      "userId       44902 non-null float64\n",
      "rating       44902 non-null float64\n",
      "timestamp    44902 non-null float64\n",
      "imdbId       44902 non-null int64\n",
      "tmdbId       44902 non-null float64\n",
      "dtypes: float64(4), int64(2)\n",
      "memory usage: 2.4 MB\n"
     ]
    }
   ],
   "source": [
    "df5.info()"
   ]
  },
  {
   "cell_type": "code",
   "execution_count": 47,
   "metadata": {},
   "outputs": [],
   "source": [
    "df5['tmdbId']= df5['tmdbId'].astype(int)"
   ]
  },
  {
   "cell_type": "code",
   "execution_count": 48,
   "metadata": {},
   "outputs": [],
   "source": [
    "df5['tmdbId'] = df5['tmdbId'].astype(str)"
   ]
  },
  {
   "cell_type": "code",
   "execution_count": 49,
   "metadata": {},
   "outputs": [],
   "source": [
    "df5=df5.rename(columns={\"tmdbId\": \"id\"})"
   ]
  },
  {
   "cell_type": "code",
   "execution_count": 50,
   "metadata": {},
   "outputs": [],
   "source": [
    "# i have this coulms in the prime date so i dont need then\n",
    "df5.drop('timestamp', axis=1, inplace=True)\n",
    "df5.drop('userId', axis=1, inplace=True)"
   ]
  },
  {
   "cell_type": "code",
   "execution_count": 51,
   "metadata": {},
   "outputs": [],
   "source": [
    "# create new date\n",
    "df8=pd.merge(df5, df, on='id', how='inner')"
   ]
  },
  {
   "cell_type": "code",
   "execution_count": 52,
   "metadata": {},
   "outputs": [
    {
     "data": {
      "text/plain": [
       "(44704, 23)"
      ]
     },
     "execution_count": 52,
     "metadata": {},
     "output_type": "execute_result"
    }
   ],
   "source": [
    "df8.shape"
   ]
  },
  {
   "cell_type": "code",
   "execution_count": 53,
   "metadata": {},
   "outputs": [
    {
     "data": {
      "text/html": [
       "<div>\n",
       "<style scoped>\n",
       "    .dataframe tbody tr th:only-of-type {\n",
       "        vertical-align: middle;\n",
       "    }\n",
       "\n",
       "    .dataframe tbody tr th {\n",
       "        vertical-align: top;\n",
       "    }\n",
       "\n",
       "    .dataframe thead th {\n",
       "        text-align: right;\n",
       "    }\n",
       "</style>\n",
       "<table border=\"1\" class=\"dataframe\">\n",
       "  <thead>\n",
       "    <tr style=\"text-align: right;\">\n",
       "      <th></th>\n",
       "      <th>movieId</th>\n",
       "      <th>rating</th>\n",
       "      <th>imdbId</th>\n",
       "      <th>id</th>\n",
       "      <th>adult</th>\n",
       "      <th>budget</th>\n",
       "      <th>genres</th>\n",
       "      <th>imdb_id</th>\n",
       "      <th>original_language</th>\n",
       "      <th>original_title</th>\n",
       "      <th>...</th>\n",
       "      <th>production_countries</th>\n",
       "      <th>release_date</th>\n",
       "      <th>revenue</th>\n",
       "      <th>runtime</th>\n",
       "      <th>spoken_languages</th>\n",
       "      <th>status</th>\n",
       "      <th>title</th>\n",
       "      <th>video</th>\n",
       "      <th>vote_average</th>\n",
       "      <th>vote_count</th>\n",
       "    </tr>\n",
       "  </thead>\n",
       "  <tbody>\n",
       "    <tr>\n",
       "      <td>0</td>\n",
       "      <td>1</td>\n",
       "      <td>3.888157</td>\n",
       "      <td>114709</td>\n",
       "      <td>862</td>\n",
       "      <td>False</td>\n",
       "      <td>30000000</td>\n",
       "      <td>[{'id': 16, 'name': 'Animation'}, {'id': 35, '...</td>\n",
       "      <td>tt0114709</td>\n",
       "      <td>en</td>\n",
       "      <td>Toy Story</td>\n",
       "      <td>...</td>\n",
       "      <td>[{'iso_3166_1': 'US', 'name': 'United States o...</td>\n",
       "      <td>1995-10-30</td>\n",
       "      <td>373554033.0</td>\n",
       "      <td>81.0</td>\n",
       "      <td>[{'iso_639_1': 'en', 'name': 'English'}]</td>\n",
       "      <td>Released</td>\n",
       "      <td>Toy Story</td>\n",
       "      <td>False</td>\n",
       "      <td>7.7</td>\n",
       "      <td>5415.0</td>\n",
       "    </tr>\n",
       "    <tr>\n",
       "      <td>1</td>\n",
       "      <td>2</td>\n",
       "      <td>3.236953</td>\n",
       "      <td>113497</td>\n",
       "      <td>8844</td>\n",
       "      <td>False</td>\n",
       "      <td>65000000</td>\n",
       "      <td>[{'id': 12, 'name': 'Adventure'}, {'id': 14, '...</td>\n",
       "      <td>tt0113497</td>\n",
       "      <td>en</td>\n",
       "      <td>Jumanji</td>\n",
       "      <td>...</td>\n",
       "      <td>[{'iso_3166_1': 'US', 'name': 'United States o...</td>\n",
       "      <td>1995-12-15</td>\n",
       "      <td>262797249.0</td>\n",
       "      <td>104.0</td>\n",
       "      <td>[{'iso_639_1': 'en', 'name': 'English'}, {'iso...</td>\n",
       "      <td>Released</td>\n",
       "      <td>Jumanji</td>\n",
       "      <td>False</td>\n",
       "      <td>6.9</td>\n",
       "      <td>2413.0</td>\n",
       "    </tr>\n",
       "    <tr>\n",
       "      <td>2</td>\n",
       "      <td>3</td>\n",
       "      <td>3.175550</td>\n",
       "      <td>113228</td>\n",
       "      <td>15602</td>\n",
       "      <td>False</td>\n",
       "      <td>0</td>\n",
       "      <td>[{'id': 10749, 'name': 'Romance'}, {'id': 35, ...</td>\n",
       "      <td>tt0113228</td>\n",
       "      <td>en</td>\n",
       "      <td>Grumpier Old Men</td>\n",
       "      <td>...</td>\n",
       "      <td>[{'iso_3166_1': 'US', 'name': 'United States o...</td>\n",
       "      <td>1995-12-22</td>\n",
       "      <td>0.0</td>\n",
       "      <td>101.0</td>\n",
       "      <td>[{'iso_639_1': 'en', 'name': 'English'}]</td>\n",
       "      <td>Released</td>\n",
       "      <td>Grumpier Old Men</td>\n",
       "      <td>False</td>\n",
       "      <td>6.5</td>\n",
       "      <td>92.0</td>\n",
       "    </tr>\n",
       "    <tr>\n",
       "      <td>3</td>\n",
       "      <td>4</td>\n",
       "      <td>2.875713</td>\n",
       "      <td>114885</td>\n",
       "      <td>31357</td>\n",
       "      <td>False</td>\n",
       "      <td>16000000</td>\n",
       "      <td>[{'id': 35, 'name': 'Comedy'}, {'id': 18, 'nam...</td>\n",
       "      <td>tt0114885</td>\n",
       "      <td>en</td>\n",
       "      <td>Waiting to Exhale</td>\n",
       "      <td>...</td>\n",
       "      <td>[{'iso_3166_1': 'US', 'name': 'United States o...</td>\n",
       "      <td>1995-12-22</td>\n",
       "      <td>81452156.0</td>\n",
       "      <td>127.0</td>\n",
       "      <td>[{'iso_639_1': 'en', 'name': 'English'}]</td>\n",
       "      <td>Released</td>\n",
       "      <td>Waiting to Exhale</td>\n",
       "      <td>False</td>\n",
       "      <td>6.1</td>\n",
       "      <td>34.0</td>\n",
       "    </tr>\n",
       "    <tr>\n",
       "      <td>4</td>\n",
       "      <td>5</td>\n",
       "      <td>3.079565</td>\n",
       "      <td>113041</td>\n",
       "      <td>11862</td>\n",
       "      <td>False</td>\n",
       "      <td>0</td>\n",
       "      <td>[{'id': 35, 'name': 'Comedy'}]</td>\n",
       "      <td>tt0113041</td>\n",
       "      <td>en</td>\n",
       "      <td>Father of the Bride Part II</td>\n",
       "      <td>...</td>\n",
       "      <td>[{'iso_3166_1': 'US', 'name': 'United States o...</td>\n",
       "      <td>1995-02-10</td>\n",
       "      <td>76578911.0</td>\n",
       "      <td>106.0</td>\n",
       "      <td>[{'iso_639_1': 'en', 'name': 'English'}]</td>\n",
       "      <td>Released</td>\n",
       "      <td>Father of the Bride Part II</td>\n",
       "      <td>False</td>\n",
       "      <td>5.7</td>\n",
       "      <td>173.0</td>\n",
       "    </tr>\n",
       "  </tbody>\n",
       "</table>\n",
       "<p>5 rows × 23 columns</p>\n",
       "</div>"
      ],
      "text/plain": [
       "   movieId    rating  imdbId     id  adult    budget  \\\n",
       "0        1  3.888157  114709    862  False  30000000   \n",
       "1        2  3.236953  113497   8844  False  65000000   \n",
       "2        3  3.175550  113228  15602  False         0   \n",
       "3        4  2.875713  114885  31357  False  16000000   \n",
       "4        5  3.079565  113041  11862  False         0   \n",
       "\n",
       "                                              genres    imdb_id  \\\n",
       "0  [{'id': 16, 'name': 'Animation'}, {'id': 35, '...  tt0114709   \n",
       "1  [{'id': 12, 'name': 'Adventure'}, {'id': 14, '...  tt0113497   \n",
       "2  [{'id': 10749, 'name': 'Romance'}, {'id': 35, ...  tt0113228   \n",
       "3  [{'id': 35, 'name': 'Comedy'}, {'id': 18, 'nam...  tt0114885   \n",
       "4                     [{'id': 35, 'name': 'Comedy'}]  tt0113041   \n",
       "\n",
       "  original_language               original_title  ...  \\\n",
       "0                en                    Toy Story  ...   \n",
       "1                en                      Jumanji  ...   \n",
       "2                en             Grumpier Old Men  ...   \n",
       "3                en            Waiting to Exhale  ...   \n",
       "4                en  Father of the Bride Part II  ...   \n",
       "\n",
       "                                production_countries  release_date  \\\n",
       "0  [{'iso_3166_1': 'US', 'name': 'United States o...    1995-10-30   \n",
       "1  [{'iso_3166_1': 'US', 'name': 'United States o...    1995-12-15   \n",
       "2  [{'iso_3166_1': 'US', 'name': 'United States o...    1995-12-22   \n",
       "3  [{'iso_3166_1': 'US', 'name': 'United States o...    1995-12-22   \n",
       "4  [{'iso_3166_1': 'US', 'name': 'United States o...    1995-02-10   \n",
       "\n",
       "       revenue runtime                                   spoken_languages  \\\n",
       "0  373554033.0    81.0           [{'iso_639_1': 'en', 'name': 'English'}]   \n",
       "1  262797249.0   104.0  [{'iso_639_1': 'en', 'name': 'English'}, {'iso...   \n",
       "2          0.0   101.0           [{'iso_639_1': 'en', 'name': 'English'}]   \n",
       "3   81452156.0   127.0           [{'iso_639_1': 'en', 'name': 'English'}]   \n",
       "4   76578911.0   106.0           [{'iso_639_1': 'en', 'name': 'English'}]   \n",
       "\n",
       "     status                        title  video vote_average vote_count  \n",
       "0  Released                    Toy Story  False          7.7     5415.0  \n",
       "1  Released                      Jumanji  False          6.9     2413.0  \n",
       "2  Released             Grumpier Old Men  False          6.5       92.0  \n",
       "3  Released            Waiting to Exhale  False          6.1       34.0  \n",
       "4  Released  Father of the Bride Part II  False          5.7      173.0  \n",
       "\n",
       "[5 rows x 23 columns]"
      ]
     },
     "execution_count": 53,
     "metadata": {},
     "output_type": "execute_result"
    }
   ],
   "source": [
    "df8.head()"
   ]
  },
  {
   "cell_type": "code",
   "execution_count": 54,
   "metadata": {},
   "outputs": [
    {
     "name": "stdout",
     "output_type": "stream",
     "text": [
      "<class 'pandas.core.frame.DataFrame'>\n",
      "Int64Index: 44704 entries, 0 to 44703\n",
      "Data columns (total 23 columns):\n",
      "movieId                 44704 non-null int64\n",
      "rating                  44704 non-null float64\n",
      "imdbId                  44704 non-null int64\n",
      "id                      44704 non-null object\n",
      "adult                   44704 non-null object\n",
      "budget                  44704 non-null object\n",
      "genres                  44704 non-null object\n",
      "imdb_id                 44704 non-null object\n",
      "original_language       44704 non-null object\n",
      "original_title          44704 non-null object\n",
      "overview                44704 non-null object\n",
      "popularity              44704 non-null float64\n",
      "poster_path             44704 non-null object\n",
      "production_countries    44704 non-null object\n",
      "release_date            44704 non-null object\n",
      "revenue                 44704 non-null float64\n",
      "runtime                 44704 non-null float64\n",
      "spoken_languages        44704 non-null object\n",
      "status                  44704 non-null object\n",
      "title                   44704 non-null object\n",
      "video                   44704 non-null object\n",
      "vote_average            44704 non-null float64\n",
      "vote_count              44704 non-null float64\n",
      "dtypes: float64(6), int64(2), object(15)\n",
      "memory usage: 8.2+ MB\n"
     ]
    }
   ],
   "source": [
    "df8.info()"
   ]
  },
  {
   "cell_type": "code",
   "execution_count": 55,
   "metadata": {},
   "outputs": [],
   "source": [
    "df8['rating']=df8['rating'].round(0)"
   ]
  },
  {
   "cell_type": "code",
   "execution_count": 56,
   "metadata": {},
   "outputs": [],
   "source": [
    "# Convert object to numbers\n",
    "df8['adult'] = df8['adult'].map({     \n",
    "        'False': 0,\n",
    "        'True': 1         \n",
    "})\n",
    "df8['video'] = df8['video'].map({     \n",
    "        'False': 0,\n",
    "        'True': 1         \n",
    "})\n",
    "\n",
    "df8['poster_path']=df8['poster_path'].map({\n",
    "    'Not poster path':0,\n",
    "    \n",
    "})\n",
    "\n",
    "df8['original_language']=df8['original_language'].map({\n",
    "    'en':0,\n",
    "    'fr':1,\n",
    "    'it':2,\n",
    "    'ja':3,\n",
    "    'de':4,\n",
    "    \n",
    "})\n",
    "df8['status']=df8['status'].map({\n",
    "    'Released':0,\n",
    "    'Rumored':1,\n",
    "    'Post Production':2,\n",
    "    'In Production':3,\n",
    "    'Planned':4,\n",
    "    'Canceled':5\n",
    "})   \n"
   ]
  },
  {
   "cell_type": "code",
   "execution_count": 57,
   "metadata": {},
   "outputs": [],
   "source": [
    "#I decided to take these columns and calculate them by the number of letters\n",
    "df8['title'] = df8['title'].str.len()\n",
    "df8['original_title'] = df8['original_title'].str.len()\n",
    "df8['overview'] = df8['overview'].str.len()"
   ]
  },
  {
   "cell_type": "code",
   "execution_count": 58,
   "metadata": {},
   "outputs": [],
   "source": [
    "#fill other\n",
    "df8['poster_path'].fillna(value=1, inplace=True)\n",
    "df8['original_language'].fillna(value=5, inplace=True)\n",
    "df8['video'].fillna(value=2, inplace=True)"
   ]
  },
  {
   "cell_type": "code",
   "execution_count": 59,
   "metadata": {},
   "outputs": [],
   "source": [
    "#use only the year\n",
    "df8['release_date'] = pd.DatetimeIndex(df8['release_date']).year"
   ]
  },
  {
   "cell_type": "code",
   "execution_count": 60,
   "metadata": {},
   "outputs": [],
   "source": [
    "#this coulms dont tell me a \"story\"\n",
    "df8.drop('id', axis=1, inplace=True)\n",
    "df8.drop('movieId', axis=1, inplace=True)"
   ]
  },
  {
   "cell_type": "code",
   "execution_count": 61,
   "metadata": {},
   "outputs": [
    {
     "data": {
      "text/plain": [
       "<bound method IndexOpsMixin.value_counts of 0        [{'iso_3166_1': 'US', 'name': 'United States o...\n",
       "1        [{'iso_3166_1': 'US', 'name': 'United States o...\n",
       "2        [{'iso_3166_1': 'US', 'name': 'United States o...\n",
       "3        [{'iso_3166_1': 'US', 'name': 'United States o...\n",
       "4        [{'iso_3166_1': 'US', 'name': 'United States o...\n",
       "                               ...                        \n",
       "44699    [{'iso_3166_1': 'US', 'name': 'United States o...\n",
       "44700    [{'iso_3166_1': 'CA', 'name': 'Canada'}, {'iso...\n",
       "44701        [{'iso_3166_1': 'PH', 'name': 'Philippines'}]\n",
       "44702    [{'iso_3166_1': 'US', 'name': 'United States o...\n",
       "44703             [{'iso_3166_1': 'RU', 'name': 'Russia'}]\n",
       "Name: production_countries, Length: 44704, dtype: object>"
      ]
     },
     "execution_count": 61,
     "metadata": {},
     "output_type": "execute_result"
    }
   ],
   "source": [
    "df8['production_countries'].value_counts"
   ]
  },
  {
   "cell_type": "code",
   "execution_count": 62,
   "metadata": {},
   "outputs": [],
   "source": [
    "#A function that convert object to float\n",
    "def st_to_fl(se):\n",
    "    try:\n",
    "        return float(se)\n",
    "    except:\n",
    "        a=se.split(\".\")[0]\n",
    "        return a"
   ]
  },
  {
   "cell_type": "code",
   "execution_count": 63,
   "metadata": {},
   "outputs": [],
   "source": [
    "se=df8['budget']\n",
    "df8['budget']=se.apply(lambda x:st_to_fl(x))\n",
    "\n",
    "se=df8['vote_average']\n",
    "df8['vote_average']=se.apply(lambda x:st_to_fl(x))\n",
    "\n",
    "se=df8['vote_count']\n",
    "df8['vote_count']=se.apply(lambda x:st_to_fl(x))\n"
   ]
  },
  {
   "cell_type": "code",
   "execution_count": 64,
   "metadata": {},
   "outputs": [
    {
     "name": "stdout",
     "output_type": "stream",
     "text": [
      "<class 'pandas.core.frame.DataFrame'>\n",
      "Int64Index: 44704 entries, 0 to 44703\n",
      "Data columns (total 21 columns):\n",
      "rating                  44704 non-null float64\n",
      "imdbId                  44704 non-null int64\n",
      "adult                   44704 non-null int64\n",
      "budget                  44704 non-null float64\n",
      "genres                  44704 non-null object\n",
      "imdb_id                 44704 non-null object\n",
      "original_language       44704 non-null float64\n",
      "original_title          44704 non-null int64\n",
      "overview                44704 non-null int64\n",
      "popularity              44704 non-null float64\n",
      "poster_path             44704 non-null float64\n",
      "production_countries    44704 non-null object\n",
      "release_date            44704 non-null int64\n",
      "revenue                 44704 non-null float64\n",
      "runtime                 44704 non-null float64\n",
      "spoken_languages        44704 non-null object\n",
      "status                  44704 non-null int64\n",
      "title                   44704 non-null int64\n",
      "video                   44704 non-null float64\n",
      "vote_average            44704 non-null float64\n",
      "vote_count              44704 non-null float64\n",
      "dtypes: float64(10), int64(7), object(4)\n",
      "memory usage: 7.5+ MB\n"
     ]
    }
   ],
   "source": [
    "df8.info()"
   ]
  },
  {
   "cell_type": "code",
   "execution_count": 65,
   "metadata": {},
   "outputs": [],
   "source": [
    "#A function that gives me just the first word afther 'mane'\n",
    "def get_values(data_str):\n",
    "    if isinstance(data_str, float):\n",
    "        pass\n",
    "    else:\n",
    "        values = []\n",
    "        data_str = ast.literal_eval(data_str)\n",
    "        if isinstance(data_str, list):\n",
    "            for k_v in data_str:\n",
    "                values.append(k_v['name'])\n",
    "            return values\n",
    "        else:\n",
    "            return None"
   ]
  },
  {
   "cell_type": "code",
   "execution_count": 66,
   "metadata": {},
   "outputs": [],
   "source": [
    "df8[['genres']] = df8[['genres']].applymap(get_values)\n",
    "df8[['production_countries']] = df8[['production_countries']].applymap(get_values)"
   ]
  },
  {
   "cell_type": "code",
   "execution_count": 67,
   "metadata": {},
   "outputs": [
    {
     "data": {
      "text/html": [
       "<div>\n",
       "<style scoped>\n",
       "    .dataframe tbody tr th:only-of-type {\n",
       "        vertical-align: middle;\n",
       "    }\n",
       "\n",
       "    .dataframe tbody tr th {\n",
       "        vertical-align: top;\n",
       "    }\n",
       "\n",
       "    .dataframe thead th {\n",
       "        text-align: right;\n",
       "    }\n",
       "</style>\n",
       "<table border=\"1\" class=\"dataframe\">\n",
       "  <thead>\n",
       "    <tr style=\"text-align: right;\">\n",
       "      <th></th>\n",
       "      <th>rating</th>\n",
       "      <th>imdbId</th>\n",
       "      <th>adult</th>\n",
       "      <th>budget</th>\n",
       "      <th>genres</th>\n",
       "      <th>imdb_id</th>\n",
       "      <th>original_language</th>\n",
       "      <th>original_title</th>\n",
       "      <th>overview</th>\n",
       "      <th>popularity</th>\n",
       "      <th>...</th>\n",
       "      <th>production_countries</th>\n",
       "      <th>release_date</th>\n",
       "      <th>revenue</th>\n",
       "      <th>runtime</th>\n",
       "      <th>spoken_languages</th>\n",
       "      <th>status</th>\n",
       "      <th>title</th>\n",
       "      <th>video</th>\n",
       "      <th>vote_average</th>\n",
       "      <th>vote_count</th>\n",
       "    </tr>\n",
       "  </thead>\n",
       "  <tbody>\n",
       "    <tr>\n",
       "      <td>0</td>\n",
       "      <td>4.0</td>\n",
       "      <td>114709</td>\n",
       "      <td>0</td>\n",
       "      <td>30000000.0</td>\n",
       "      <td>[Animation, Comedy, Family]</td>\n",
       "      <td>tt0114709</td>\n",
       "      <td>0.0</td>\n",
       "      <td>9</td>\n",
       "      <td>303</td>\n",
       "      <td>0.0</td>\n",
       "      <td>...</td>\n",
       "      <td>[United States of America]</td>\n",
       "      <td>1995</td>\n",
       "      <td>373554033.0</td>\n",
       "      <td>81.0</td>\n",
       "      <td>[{'iso_639_1': 'en', 'name': 'English'}]</td>\n",
       "      <td>0</td>\n",
       "      <td>9</td>\n",
       "      <td>2.0</td>\n",
       "      <td>7.7</td>\n",
       "      <td>5415.0</td>\n",
       "    </tr>\n",
       "    <tr>\n",
       "      <td>1</td>\n",
       "      <td>3.0</td>\n",
       "      <td>113497</td>\n",
       "      <td>0</td>\n",
       "      <td>65000000.0</td>\n",
       "      <td>[Adventure, Fantasy, Family]</td>\n",
       "      <td>tt0113497</td>\n",
       "      <td>0.0</td>\n",
       "      <td>7</td>\n",
       "      <td>395</td>\n",
       "      <td>0.0</td>\n",
       "      <td>...</td>\n",
       "      <td>[United States of America]</td>\n",
       "      <td>1995</td>\n",
       "      <td>262797249.0</td>\n",
       "      <td>104.0</td>\n",
       "      <td>[{'iso_639_1': 'en', 'name': 'English'}, {'iso...</td>\n",
       "      <td>0</td>\n",
       "      <td>7</td>\n",
       "      <td>2.0</td>\n",
       "      <td>6.9</td>\n",
       "      <td>2413.0</td>\n",
       "    </tr>\n",
       "    <tr>\n",
       "      <td>2</td>\n",
       "      <td>3.0</td>\n",
       "      <td>113228</td>\n",
       "      <td>0</td>\n",
       "      <td>0.0</td>\n",
       "      <td>[Romance, Comedy]</td>\n",
       "      <td>tt0113228</td>\n",
       "      <td>0.0</td>\n",
       "      <td>16</td>\n",
       "      <td>327</td>\n",
       "      <td>0.0</td>\n",
       "      <td>...</td>\n",
       "      <td>[United States of America]</td>\n",
       "      <td>1995</td>\n",
       "      <td>0.0</td>\n",
       "      <td>101.0</td>\n",
       "      <td>[{'iso_639_1': 'en', 'name': 'English'}]</td>\n",
       "      <td>0</td>\n",
       "      <td>16</td>\n",
       "      <td>2.0</td>\n",
       "      <td>6.5</td>\n",
       "      <td>92.0</td>\n",
       "    </tr>\n",
       "    <tr>\n",
       "      <td>3</td>\n",
       "      <td>3.0</td>\n",
       "      <td>114885</td>\n",
       "      <td>0</td>\n",
       "      <td>16000000.0</td>\n",
       "      <td>[Comedy, Drama, Romance]</td>\n",
       "      <td>tt0114885</td>\n",
       "      <td>0.0</td>\n",
       "      <td>17</td>\n",
       "      <td>270</td>\n",
       "      <td>0.0</td>\n",
       "      <td>...</td>\n",
       "      <td>[United States of America]</td>\n",
       "      <td>1995</td>\n",
       "      <td>81452156.0</td>\n",
       "      <td>127.0</td>\n",
       "      <td>[{'iso_639_1': 'en', 'name': 'English'}]</td>\n",
       "      <td>0</td>\n",
       "      <td>17</td>\n",
       "      <td>2.0</td>\n",
       "      <td>6.1</td>\n",
       "      <td>34.0</td>\n",
       "    </tr>\n",
       "    <tr>\n",
       "      <td>4</td>\n",
       "      <td>3.0</td>\n",
       "      <td>113041</td>\n",
       "      <td>0</td>\n",
       "      <td>0.0</td>\n",
       "      <td>[Comedy]</td>\n",
       "      <td>tt0113041</td>\n",
       "      <td>0.0</td>\n",
       "      <td>27</td>\n",
       "      <td>318</td>\n",
       "      <td>0.0</td>\n",
       "      <td>...</td>\n",
       "      <td>[United States of America]</td>\n",
       "      <td>1995</td>\n",
       "      <td>76578911.0</td>\n",
       "      <td>106.0</td>\n",
       "      <td>[{'iso_639_1': 'en', 'name': 'English'}]</td>\n",
       "      <td>0</td>\n",
       "      <td>27</td>\n",
       "      <td>2.0</td>\n",
       "      <td>5.7</td>\n",
       "      <td>173.0</td>\n",
       "    </tr>\n",
       "  </tbody>\n",
       "</table>\n",
       "<p>5 rows × 21 columns</p>\n",
       "</div>"
      ],
      "text/plain": [
       "   rating  imdbId  adult      budget                        genres    imdb_id  \\\n",
       "0     4.0  114709      0  30000000.0   [Animation, Comedy, Family]  tt0114709   \n",
       "1     3.0  113497      0  65000000.0  [Adventure, Fantasy, Family]  tt0113497   \n",
       "2     3.0  113228      0         0.0             [Romance, Comedy]  tt0113228   \n",
       "3     3.0  114885      0  16000000.0      [Comedy, Drama, Romance]  tt0114885   \n",
       "4     3.0  113041      0         0.0                      [Comedy]  tt0113041   \n",
       "\n",
       "   original_language  original_title  overview  popularity  ...  \\\n",
       "0                0.0               9       303         0.0  ...   \n",
       "1                0.0               7       395         0.0  ...   \n",
       "2                0.0              16       327         0.0  ...   \n",
       "3                0.0              17       270         0.0  ...   \n",
       "4                0.0              27       318         0.0  ...   \n",
       "\n",
       "         production_countries release_date      revenue  runtime  \\\n",
       "0  [United States of America]         1995  373554033.0     81.0   \n",
       "1  [United States of America]         1995  262797249.0    104.0   \n",
       "2  [United States of America]         1995          0.0    101.0   \n",
       "3  [United States of America]         1995   81452156.0    127.0   \n",
       "4  [United States of America]         1995   76578911.0    106.0   \n",
       "\n",
       "                                    spoken_languages status  title  video  \\\n",
       "0           [{'iso_639_1': 'en', 'name': 'English'}]      0      9    2.0   \n",
       "1  [{'iso_639_1': 'en', 'name': 'English'}, {'iso...      0      7    2.0   \n",
       "2           [{'iso_639_1': 'en', 'name': 'English'}]      0     16    2.0   \n",
       "3           [{'iso_639_1': 'en', 'name': 'English'}]      0     17    2.0   \n",
       "4           [{'iso_639_1': 'en', 'name': 'English'}]      0     27    2.0   \n",
       "\n",
       "   vote_average  vote_count  \n",
       "0           7.7      5415.0  \n",
       "1           6.9      2413.0  \n",
       "2           6.5        92.0  \n",
       "3           6.1        34.0  \n",
       "4           5.7       173.0  \n",
       "\n",
       "[5 rows x 21 columns]"
      ]
     },
     "execution_count": 67,
     "metadata": {},
     "output_type": "execute_result"
    }
   ],
   "source": [
    "df8.head()"
   ]
  },
  {
   "cell_type": "code",
   "execution_count": 68,
   "metadata": {},
   "outputs": [],
   "source": [
    "#convert to type string\n",
    "df8['genres'] = df8['genres'].astype(str)\n",
    "df8[\"production_countries\"] = df8[\"production_countries\"].astype(str)"
   ]
  },
  {
   "cell_type": "code",
   "execution_count": 69,
   "metadata": {},
   "outputs": [],
   "source": [
    "df8['genres']=df8['genres'].map({\n",
    "    'Drama':1,\n",
    "    'Comedy':2,\n",
    "    'Documentary':3,\n",
    "    'Romance':4,\n",
    "    'Family':5,\n",
    "    'Science Fiction':6,\n",
    "    'History':7,\n",
    "    'Animation':8,\n",
    "    'TV Movie':9,\n",
    "    'Adventure':10\n",
    "    \n",
    "})  \n",
    "\n",
    "df8['production_countries']=df8['production_countries'].map({\n",
    "    'United States of America':1,\n",
    "    'United Kingdom':2,\n",
    "    'France':3,\n",
    "    'Japan':4,\n",
    "    'Italy':5,\n",
    "    'Canada':6,\n",
    "    'Germany':7,\n",
    "    'India':8,\n",
    "    'Russia':9,\n",
    "})  \n"
   ]
  },
  {
   "cell_type": "code",
   "execution_count": 70,
   "metadata": {},
   "outputs": [],
   "source": [
    "df8['genres'].fillna(value=11, inplace=True)\n",
    "df8['production_countries'].fillna(value=10, inplace=True)"
   ]
  },
  {
   "cell_type": "code",
   "execution_count": 71,
   "metadata": {},
   "outputs": [],
   "source": [
    "#drop this colums\n",
    "df8.drop('spoken_languages', axis=1, inplace=True)\n",
    "df8.drop('imdb_id', axis=1, inplace=True)"
   ]
  },
  {
   "cell_type": "markdown",
   "metadata": {},
   "source": [
    "# stage 4 - model\n"
   ]
  },
  {
   "cell_type": "markdown",
   "metadata": {},
   "source": [
    "###### Logistic Regression"
   ]
  },
  {
   "cell_type": "code",
   "execution_count": 72,
   "metadata": {},
   "outputs": [
    {
     "data": {
      "text/plain": [
       "3.0    21548\n",
       "4.0    13462\n",
       "2.0     7932\n",
       "1.0      906\n",
       "0.0      467\n",
       "5.0      389\n",
       "Name: rating, dtype: int64"
      ]
     },
     "execution_count": 72,
     "metadata": {},
     "output_type": "execute_result"
    }
   ],
   "source": [
    "df8['rating'].value_counts()"
   ]
  },
  {
   "cell_type": "code",
   "execution_count": 73,
   "metadata": {},
   "outputs": [
    {
     "data": {
      "image/png": "[encoded data removed]",
      "text/plain": [
       "<Figure size 432x288 with 1 Axes>"
      ]
     },
     "metadata": {
      "needs_background": "light"
     },
     "output_type": "display_data"
    }
   ],
   "source": [
    "x=df8['rating']\n",
    "sns.countplot(x,data=df8,palette='hls')\n",
    "plt.show()"
   ]
  },
  {
   "cell_type": "code",
   "execution_count": 74,
   "metadata": {},
   "outputs": [],
   "source": [
    "#6 Categories\n",
    "X=df8.drop('rating',axis=1)\n",
    "y=df8['rating']\n",
    "X_train, X_test, y_train, y_test = train_test_split(X, y, test_size=0.33, random_state=42)"
   ]
  },
  {
   "cell_type": "code",
   "execution_count": 75,
   "metadata": {},
   "outputs": [
    {
     "name": "stderr",
     "output_type": "stream",
     "text": [
      "/Users/dinamaizlis/opt/anaconda3/lib/python3.7/site-packages/sklearn/linear_model/logistic.py:432: FutureWarning: Default solver will be changed to 'lbfgs' in 0.22. Specify a solver to silence this warning.\n",
      "  FutureWarning)\n",
      "/Users/dinamaizlis/opt/anaconda3/lib/python3.7/site-packages/sklearn/linear_model/logistic.py:469: FutureWarning: Default multi_class will be changed to 'auto' in 0.22. Specify the multi_class option to silence this warning.\n",
      "  \"this warning.\", FutureWarning)\n",
      "/Users/dinamaizlis/opt/anaconda3/lib/python3.7/site-packages/sklearn/svm/base.py:929: ConvergenceWarning: Liblinear failed to converge, increase the number of iterations.\n",
      "  \"the number of iterations.\", ConvergenceWarning)\n"
     ]
    }
   ],
   "source": [
    "lr=LogisticRegression()\n",
    "lr.fit(X_train,y_train)\n",
    "\n",
    "predictions=lr.predict(X_test)"
   ]
  },
  {
   "cell_type": "code",
   "execution_count": 76,
   "metadata": {},
   "outputs": [
    {
     "name": "stdout",
     "output_type": "stream",
     "text": [
      "              precision    recall  f1-score   support\n",
      "\n",
      "         0.0       0.00      0.00      0.00       163\n",
      "         1.0       0.00      0.00      0.00       278\n",
      "         2.0       0.00      0.00      0.00      2604\n",
      "         3.0       0.48      1.00      0.65      7142\n",
      "         4.0       0.49      0.01      0.02      4442\n",
      "         5.0       0.00      0.00      0.00       124\n",
      "\n",
      "    accuracy                           0.48     14753\n",
      "   macro avg       0.16      0.17      0.11     14753\n",
      "weighted avg       0.38      0.48      0.32     14753\n",
      "\n"
     ]
    },
    {
     "name": "stderr",
     "output_type": "stream",
     "text": [
      "/Users/dinamaizlis/opt/anaconda3/lib/python3.7/site-packages/sklearn/metrics/classification.py:1437: UndefinedMetricWarning: Precision and F-score are ill-defined and being set to 0.0 in labels with no predicted samples.\n",
      "  'precision', 'predicted', average, warn_for)\n"
     ]
    }
   ],
   "source": [
    "print(classification_report(y_test,predictions))"
   ]
  },
  {
   "cell_type": "code",
   "execution_count": 77,
   "metadata": {},
   "outputs": [
    {
     "data": {
      "text/plain": [
       "array([[   0,    0,    0,  163,    0,    0],\n",
       "       [   0,    0,    0,  278,    0,    0],\n",
       "       [   0,    0,    0, 2595,    9,    0],\n",
       "       [   0,    0,    0, 7110,   32,    0],\n",
       "       [   0,    0,    0, 4401,   41,    0],\n",
       "       [   0,    0,    0,  123,    1,    0]])"
      ]
     },
     "execution_count": 77,
     "metadata": {},
     "output_type": "execute_result"
    }
   ],
   "source": [
    "confusion_matrix(y_test, predictions)"
   ]
  },
  {
   "cell_type": "code",
   "execution_count": 78,
   "metadata": {},
   "outputs": [
    {
     "name": "stdout",
     "output_type": "stream",
     "text": [
      "0.4847149732257846\n"
     ]
    }
   ],
   "source": [
    "print(metrics.accuracy_score(y_test,predictions))"
   ]
  },
  {
   "cell_type": "code",
   "execution_count": 79,
   "metadata": {},
   "outputs": [],
   "source": [
    "#Because there is not enough information to build the model, I decided to divide the prediction into three"
   ]
  },
  {
   "cell_type": "code",
   "execution_count": 80,
   "metadata": {},
   "outputs": [],
   "source": [
    "df8[\"rating1\"] = df8['rating']"
   ]
  },
  {
   "cell_type": "code",
   "execution_count": 81,
   "metadata": {},
   "outputs": [],
   "source": [
    "df8['rating1'] = df8['rating1'].astype(str)"
   ]
  },
  {
   "cell_type": "code",
   "execution_count": 82,
   "metadata": {},
   "outputs": [],
   "source": [
    "df8['rating1']=df8['rating1'].map({\n",
    "   '5.0':3,\n",
    "    '4.0':3,\n",
    "    '3.0':2,\n",
    "    '2.0':2,\n",
    "    '1.0':1,\n",
    "    '0.0':1\n",
    "})"
   ]
  },
  {
   "cell_type": "code",
   "execution_count": 83,
   "metadata": {},
   "outputs": [
    {
     "data": {
      "text/plain": [
       "2    29480\n",
       "3    13851\n",
       "1     1373\n",
       "Name: rating1, dtype: int64"
      ]
     },
     "execution_count": 83,
     "metadata": {},
     "output_type": "execute_result"
    }
   ],
   "source": [
    "df8['rating1'].value_counts()"
   ]
  },
  {
   "cell_type": "code",
   "execution_count": 84,
   "metadata": {},
   "outputs": [
    {
     "data": {
      "image/png": "[encoded data removed]",
      "text/plain": [
       "<Figure size 432x288 with 1 Axes>"
      ]
     },
     "metadata": {
      "needs_background": "light"
     },
     "output_type": "display_data"
    }
   ],
   "source": [
    "x=df8['rating1']\n",
    "sns.countplot(x,data=df8,palette='hls')\n",
    "plt.show()"
   ]
  },
  {
   "cell_type": "code",
   "execution_count": 85,
   "metadata": {},
   "outputs": [],
   "source": [
    "#3 Categories\n",
    "X=df8.drop('rating1',axis=1)\n",
    "y=df8['rating1']\n",
    "X_train, X_test, y_train, y_test = train_test_split(X, y, test_size=0.33, random_state=42)"
   ]
  },
  {
   "cell_type": "code",
   "execution_count": 86,
   "metadata": {},
   "outputs": [
    {
     "name": "stderr",
     "output_type": "stream",
     "text": [
      "/Users/dinamaizlis/opt/anaconda3/lib/python3.7/site-packages/sklearn/linear_model/logistic.py:432: FutureWarning: Default solver will be changed to 'lbfgs' in 0.22. Specify a solver to silence this warning.\n",
      "  FutureWarning)\n",
      "/Users/dinamaizlis/opt/anaconda3/lib/python3.7/site-packages/sklearn/linear_model/logistic.py:469: FutureWarning: Default multi_class will be changed to 'auto' in 0.22. Specify the multi_class option to silence this warning.\n",
      "  \"this warning.\", FutureWarning)\n"
     ]
    }
   ],
   "source": [
    "# Logistic Regression\n",
    "lr=LogisticRegression()\n",
    "lr.fit(X_train,y_train)\n",
    "#we used the train model to get the prediction for our test data set (X_test)\n",
    "predictions=lr.predict(X_test)"
   ]
  },
  {
   "cell_type": "code",
   "execution_count": 87,
   "metadata": {},
   "outputs": [
    {
     "name": "stdout",
     "output_type": "stream",
     "text": [
      "              precision    recall  f1-score   support\n",
      "\n",
      "           1       0.00      0.00      0.00       441\n",
      "           2       0.66      1.00      0.80      9746\n",
      "           3       0.61      0.01      0.02      4566\n",
      "\n",
      "    accuracy                           0.66     14753\n",
      "   macro avg       0.43      0.34      0.27     14753\n",
      "weighted avg       0.63      0.66      0.53     14753\n",
      "\n"
     ]
    },
    {
     "name": "stderr",
     "output_type": "stream",
     "text": [
      "/Users/dinamaizlis/opt/anaconda3/lib/python3.7/site-packages/sklearn/metrics/classification.py:1437: UndefinedMetricWarning: Precision and F-score are ill-defined and being set to 0.0 in labels with no predicted samples.\n",
      "  'precision', 'predicted', average, warn_for)\n"
     ]
    }
   ],
   "source": [
    "print(classification_report(y_test,predictions))"
   ]
  },
  {
   "cell_type": "code",
   "execution_count": 88,
   "metadata": {},
   "outputs": [
    {
     "data": {
      "text/plain": [
       "array([[   0,  441,    0],\n",
       "       [   0, 9724,   22],\n",
       "       [   0, 4531,   35]])"
      ]
     },
     "execution_count": 88,
     "metadata": {},
     "output_type": "execute_result"
    }
   ],
   "source": [
    "confusion_matrix(y_test, predictions)"
   ]
  },
  {
   "cell_type": "code",
   "execution_count": 89,
   "metadata": {},
   "outputs": [
    {
     "name": "stdout",
     "output_type": "stream",
     "text": [
      "0.6614925777807904\n"
     ]
    }
   ],
   "source": [
    "print(metrics.accuracy_score(y_test,predictions))"
   ]
  },
  {
   "cell_type": "code",
   "execution_count": 90,
   "metadata": {},
   "outputs": [],
   "source": [
    "#Because there is not enough information to build the model, I decided to divide the prediction into three"
   ]
  },
  {
   "cell_type": "code",
   "execution_count": 91,
   "metadata": {},
   "outputs": [],
   "source": [
    "df8[\"rating2\"] = df8['rating']"
   ]
  },
  {
   "cell_type": "code",
   "execution_count": 92,
   "metadata": {},
   "outputs": [],
   "source": [
    "df8['rating2'] = df8['rating2'].astype(str)"
   ]
  },
  {
   "cell_type": "code",
   "execution_count": 93,
   "metadata": {},
   "outputs": [],
   "source": [
    "df8['rating2']=df8['rating2'].map({\n",
    "   '5.0':2,\n",
    "    '4.0':2,\n",
    "    '3.0':2,\n",
    "    '2.0':1,\n",
    "    '1.0':1,\n",
    "    '0.0':1\n",
    "})"
   ]
  },
  {
   "cell_type": "code",
   "execution_count": 94,
   "metadata": {},
   "outputs": [
    {
     "data": {
      "text/plain": [
       "2    35399\n",
       "1     9305\n",
       "Name: rating2, dtype: int64"
      ]
     },
     "execution_count": 94,
     "metadata": {},
     "output_type": "execute_result"
    }
   ],
   "source": [
    "df8['rating2'].value_counts()"
   ]
  },
  {
   "cell_type": "code",
   "execution_count": 95,
   "metadata": {},
   "outputs": [
    {
     "data": {
      "image/png": "[encoded data removed]",
      "text/plain": [
       "<Figure size 432x288 with 1 Axes>"
      ]
     },
     "metadata": {
      "needs_background": "light"
     },
     "output_type": "display_data"
    }
   ],
   "source": [
    "x=df8['rating2']\n",
    "sns.countplot(x,data=df8,palette='hls')\n",
    "plt.show()"
   ]
  },
  {
   "cell_type": "code",
   "execution_count": 96,
   "metadata": {},
   "outputs": [],
   "source": [
    "#2 Categories\n",
    "X=df8.drop('rating2',axis=1)\n",
    "y=df8['rating2']\n",
    "X_train, X_test, y_train, y_test = train_test_split(X, y, test_size=0.33, random_state=42)"
   ]
  },
  {
   "cell_type": "code",
   "execution_count": 97,
   "metadata": {},
   "outputs": [
    {
     "name": "stderr",
     "output_type": "stream",
     "text": [
      "/Users/dinamaizlis/opt/anaconda3/lib/python3.7/site-packages/sklearn/linear_model/logistic.py:432: FutureWarning: Default solver will be changed to 'lbfgs' in 0.22. Specify a solver to silence this warning.\n",
      "  FutureWarning)\n"
     ]
    }
   ],
   "source": [
    "# Logistic Regression\n",
    "lr=LogisticRegression()\n",
    "lr.fit(X_train,y_train)\n",
    "#we used the train model to get the prediction for our test data set (X_test)\n",
    "predictions=lr.predict(X_test)"
   ]
  },
  {
   "cell_type": "code",
   "execution_count": 98,
   "metadata": {},
   "outputs": [
    {
     "name": "stdout",
     "output_type": "stream",
     "text": [
      "              precision    recall  f1-score   support\n",
      "\n",
      "           1       0.00      0.00      0.00      3045\n",
      "           2       0.79      1.00      0.88     11708\n",
      "\n",
      "    accuracy                           0.79     14753\n",
      "   macro avg       0.40      0.50      0.44     14753\n",
      "weighted avg       0.63      0.79      0.70     14753\n",
      "\n"
     ]
    },
    {
     "name": "stderr",
     "output_type": "stream",
     "text": [
      "/Users/dinamaizlis/opt/anaconda3/lib/python3.7/site-packages/sklearn/metrics/classification.py:1437: UndefinedMetricWarning: Precision and F-score are ill-defined and being set to 0.0 in labels with no predicted samples.\n",
      "  'precision', 'predicted', average, warn_for)\n"
     ]
    }
   ],
   "source": [
    "print(classification_report(y_test,predictions))"
   ]
  },
  {
   "cell_type": "code",
   "execution_count": 99,
   "metadata": {},
   "outputs": [
    {
     "data": {
      "text/plain": [
       "array([[    0,  3045],\n",
       "       [    0, 11708]])"
      ]
     },
     "execution_count": 99,
     "metadata": {},
     "output_type": "execute_result"
    }
   ],
   "source": [
    "confusion_matrix(y_test, predictions)"
   ]
  },
  {
   "cell_type": "code",
   "execution_count": 100,
   "metadata": {},
   "outputs": [
    {
     "name": "stdout",
     "output_type": "stream",
     "text": [
      "0.7936013014302176\n"
     ]
    }
   ],
   "source": [
    "print(metrics.accuracy_score(y_test,predictions))"
   ]
  },
  {
   "cell_type": "markdown",
   "metadata": {},
   "source": [
    "#### KNN"
   ]
  },
  {
   "cell_type": "code",
   "execution_count": 102,
   "metadata": {},
   "outputs": [],
   "source": [
    "#6 Categories\n",
    "X=df8.drop('rating',axis=1)\n",
    "y=df8['rating']\n",
    "X_train, X_test, y_train, y_test = train_test_split(X, y, test_size=0.33, random_state=42)"
   ]
  },
  {
   "cell_type": "code",
   "execution_count": 103,
   "metadata": {},
   "outputs": [
    {
     "name": "stdout",
     "output_type": "stream",
     "text": [
      "              precision    recall  f1-score   support\n",
      "\n",
      "         0.0       0.00      0.00      0.00       163\n",
      "         1.0       0.00      0.00      0.00       278\n",
      "         2.0       0.23      0.03      0.06      2604\n",
      "         3.0       0.49      0.85      0.63      7142\n",
      "         4.0       0.34      0.16      0.22      4442\n",
      "         5.0       0.00      0.00      0.00       124\n",
      "\n",
      "    accuracy                           0.47     14753\n",
      "   macro avg       0.18      0.17      0.15     14753\n",
      "weighted avg       0.38      0.47      0.38     14753\n",
      "\n"
     ]
    },
    {
     "name": "stderr",
     "output_type": "stream",
     "text": [
      "/Users/dinamaizlis/opt/anaconda3/lib/python3.7/site-packages/sklearn/metrics/classification.py:1437: UndefinedMetricWarning: Precision and F-score are ill-defined and being set to 0.0 in labels with no predicted samples.\n",
      "  'precision', 'predicted', average, warn_for)\n"
     ]
    }
   ],
   "source": [
    "k=KNeighborsClassifier(n_neighbors=30)\n",
    "k.fit(X_train,y_train)\n",
    "predictions=k.predict(X_test)\n",
    "print(classification_report(y_test,predictions))\n"
   ]
  },
  {
   "cell_type": "code",
   "execution_count": 104,
   "metadata": {},
   "outputs": [
    {
     "name": "stdout",
     "output_type": "stream",
     "text": [
      "[[   0    0    7  125   31    0]\n",
      " [   0    0    6  230   42    0]\n",
      " [   0    0   85 2145  374    0]\n",
      " [   0    0  152 6085  905    0]\n",
      " [   0    0  110 3624  708    0]\n",
      " [   0    0    7  104   13    0]]\n"
     ]
    }
   ],
   "source": [
    "print(confusion_matrix(y_test, predictions))"
   ]
  },
  {
   "cell_type": "code",
   "execution_count": 105,
   "metadata": {},
   "outputs": [
    {
     "name": "stdout",
     "output_type": "stream",
     "text": [
      "0.4662102623195282\n"
     ]
    }
   ],
   "source": [
    "print(metrics.accuracy_score(y_test,predictions))"
   ]
  },
  {
   "cell_type": "code",
   "execution_count": 106,
   "metadata": {},
   "outputs": [],
   "source": [
    "#2 Categories\n",
    "X=df8.drop('rating2',axis=1)\n",
    "y=df8['rating2']\n",
    "X_train, X_test, y_train, y_test = train_test_split(X, y, test_size=0.33, random_state=42)"
   ]
  },
  {
   "cell_type": "code",
   "execution_count": 107,
   "metadata": {},
   "outputs": [
    {
     "name": "stdout",
     "output_type": "stream",
     "text": [
      "              precision    recall  f1-score   support\n",
      "\n",
      "           1       0.27      0.02      0.04      3045\n",
      "           2       0.79      0.99      0.88     11708\n",
      "\n",
      "    accuracy                           0.79     14753\n",
      "   macro avg       0.53      0.50      0.46     14753\n",
      "weighted avg       0.69      0.79      0.71     14753\n",
      "\n"
     ]
    }
   ],
   "source": [
    "k=KNeighborsClassifier(n_neighbors=15)\n",
    "k.fit(X_train,y_train)\n",
    "predictions=k.predict(X_test)\n",
    "print(classification_report(y_test,predictions))"
   ]
  },
  {
   "cell_type": "code",
   "execution_count": 108,
   "metadata": {},
   "outputs": [
    {
     "name": "stdout",
     "output_type": "stream",
     "text": [
      "[[   58  2987]\n",
      " [  158 11550]]\n"
     ]
    }
   ],
   "source": [
    "print(confusion_matrix(y_test, predictions))"
   ]
  },
  {
   "cell_type": "code",
   "execution_count": 109,
   "metadata": {},
   "outputs": [
    {
     "name": "stdout",
     "output_type": "stream",
     "text": [
      "0.7868230190469735\n"
     ]
    }
   ],
   "source": [
    "print(metrics.accuracy_score(y_test,predictions))"
   ]
  },
  {
   "cell_type": "markdown",
   "metadata": {},
   "source": [
    "#### Naive Bayes"
   ]
  },
  {
   "cell_type": "code",
   "execution_count": 110,
   "metadata": {},
   "outputs": [],
   "source": [
    "#2 Categories\n",
    "X=df8.drop('rating2',axis=1)\n",
    "y=df8['rating2']\n",
    "X_train, X_test, y_train, y_test = train_test_split(X, y, test_size=0.33, random_state=42)"
   ]
  },
  {
   "cell_type": "code",
   "execution_count": 111,
   "metadata": {},
   "outputs": [
    {
     "name": "stdout",
     "output_type": "stream",
     "text": [
      "0.2886192638785332\n"
     ]
    }
   ],
   "source": [
    "gnb = GaussianNB() \n",
    "gnb.fit(X_train, y_train) \n",
    "  \n",
    "\n",
    "y_pred = gnb.predict(X_test) \n",
    "\n",
    "\n",
    "print( metrics.accuracy_score(y_test, y_pred))"
   ]
  },
  {
   "cell_type": "code",
   "execution_count": 112,
   "metadata": {},
   "outputs": [
    {
     "data": {
      "text/plain": [
       "array([[ 2878,   167],\n",
       "       [10328,  1380]])"
      ]
     },
     "execution_count": 112,
     "metadata": {},
     "output_type": "execute_result"
    }
   ],
   "source": [
    "confusion_matrix(y_test, y_pred)"
   ]
  }
 ],
 "metadata": {
  "kernelspec": {
   "display_name": "Python 3",
   "language": "python",
   "name": "python3"
  },
  "language_info": {
   "codemirror_mode": {
    "name": "ipython",
    "version": 3
   },
   "file_extension": ".py",
   "mimetype": "text/x-python",
   "name": "python",
   "nbconvert_exporter": "python",
   "pygments_lexer": "ipython3",
   "version": "3.7.4"
  }
 },
 "nbformat": 4,
 "nbformat_minor": 2
}
